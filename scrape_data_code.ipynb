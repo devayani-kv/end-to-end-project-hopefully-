{
 "cells": [
  {
   "cell_type": "code",
   "execution_count": 1,
   "id": "8563618d",
   "metadata": {},
   "outputs": [],
   "source": [
    "import praw"
   ]
  },
  {
   "cell_type": "code",
   "execution_count": 2,
   "id": "62612eeb",
   "metadata": {},
   "outputs": [
    {
     "name": "stdout",
     "output_type": "stream",
     "text": [
      "True\n"
     ]
    }
   ],
   "source": [
    "reddit = praw.Reddit(\n",
    "    client_id=\"SKvv2OzJxBacuHjSCbeL5A\",\n",
    "    client_secret=\"nOYSsVlpYrNlVcFtPBrhX9Tx1t35wg\",\n",
    "    #password=\"my password\",\n",
    "    user_agent=\"app\",\n",
    "    #username=\"my username\",\n",
    ")\n",
    "\n",
    "print(reddit.read_only)"
   ]
  },
  {
   "cell_type": "code",
   "execution_count": 4,
   "id": "e38e6bb1",
   "metadata": {},
   "outputs": [
    {
     "name": "stdout",
     "output_type": "stream",
     "text": [
      "200\n"
     ]
    }
   ],
   "source": [
    "subs = reddit.subreddit('datascience').new(limit = 200) \n",
    "lst = []\n",
    "for s in subs:\n",
    "    #print (s.title)\n",
    "    #print ('---')\n",
    "    lst.append(s.shortlink)\n",
    "#print(lst)\n",
    "print(len(lst))"
   ]
  },
  {
   "cell_type": "code",
   "execution_count": 5,
   "id": "d2448a7d",
   "metadata": {},
   "outputs": [
    {
     "data": {
      "text/html": [
       "<div>\n",
       "<style scoped>\n",
       "    .dataframe tbody tr th:only-of-type {\n",
       "        vertical-align: middle;\n",
       "    }\n",
       "\n",
       "    .dataframe tbody tr th {\n",
       "        vertical-align: top;\n",
       "    }\n",
       "\n",
       "    .dataframe thead th {\n",
       "        text-align: right;\n",
       "    }\n",
       "</style>\n",
       "<table border=\"1\" class=\"dataframe\">\n",
       "  <thead>\n",
       "    <tr style=\"text-align: right;\">\n",
       "      <th></th>\n",
       "      <th>text data</th>\n",
       "    </tr>\n",
       "  </thead>\n",
       "  <tbody>\n",
       "    <tr>\n",
       "      <th>0</th>\n",
       "      <td>Tiktok data analyst hackerrank</td>\n",
       "    </tr>\n",
       "    <tr>\n",
       "      <th>1</th>\n",
       "      <td>How to extract data from website</td>\n",
       "    </tr>\n",
       "    <tr>\n",
       "      <th>2</th>\n",
       "      <td>This can be done using Python.</td>\n",
       "    </tr>\n",
       "    <tr>\n",
       "      <th>3</th>\n",
       "      <td>Image classification</td>\n",
       "    </tr>\n",
       "    <tr>\n",
       "      <th>4</th>\n",
       "      <td>Which dashboard shall i use? Power BI or any d...</td>\n",
       "    </tr>\n",
       "    <tr>\n",
       "      <th>...</th>\n",
       "      <td>...</td>\n",
       "    </tr>\n",
       "    <tr>\n",
       "      <th>1436</th>\n",
       "      <td>I had it help me check my nephew’s math homewo...</td>\n",
       "    </tr>\n",
       "    <tr>\n",
       "      <th>1437</th>\n",
       "      <td>It has intelligence, but not cognition. It can...</td>\n",
       "    </tr>\n",
       "    <tr>\n",
       "      <th>1438</th>\n",
       "      <td>Love it. Use for various kinds of work.</td>\n",
       "    </tr>\n",
       "    <tr>\n",
       "      <th>1439</th>\n",
       "      <td>Severely overrated in its current state.  AI l...</td>\n",
       "    </tr>\n",
       "    <tr>\n",
       "      <th>1440</th>\n",
       "      <td>It’s the end for all the wannabe data scientis...</td>\n",
       "    </tr>\n",
       "  </tbody>\n",
       "</table>\n",
       "<p>1441 rows × 1 columns</p>\n",
       "</div>"
      ],
      "text/plain": [
       "                                              text data\n",
       "0                        Tiktok data analyst hackerrank\n",
       "1                      How to extract data from website\n",
       "2                        This can be done using Python.\n",
       "3                                  Image classification\n",
       "4     Which dashboard shall i use? Power BI or any d...\n",
       "...                                                 ...\n",
       "1436  I had it help me check my nephew’s math homewo...\n",
       "1437  It has intelligence, but not cognition. It can...\n",
       "1438            Love it. Use for various kinds of work.\n",
       "1439  Severely overrated in its current state.  AI l...\n",
       "1440  It’s the end for all the wannabe data scientis...\n",
       "\n",
       "[1441 rows x 1 columns]"
      ]
     },
     "execution_count": 5,
     "metadata": {},
     "output_type": "execute_result"
    }
   ],
   "source": [
    "import pandas as pd\n",
    "df = []\n",
    "for url in lst:\n",
    "    submission = reddit.submission(url=url)\n",
    "    #print(\"***********************************\")\n",
    "    df.append([submission.title])\n",
    "    #print(\"***********************************\")\n",
    "    for top_level_comment in submission.comments:\n",
    "        df.append([top_level_comment.body])\n",
    "        #print('_______')\n",
    "df = pd.DataFrame(df,columns = ['text data'])\n",
    "df"
   ]
  },
  {
   "cell_type": "code",
   "execution_count": 9,
   "id": "195b2a48",
   "metadata": {},
   "outputs": [],
   "source": [
    "datatoexcel = pd.ExcelWriter('dummy_data.xlsx')\n",
    "  \n",
    "# write DataFrame to excel\n",
    "df.to_excel(datatoexcel)\n",
    "  \n",
    "# save the excel\n",
    "datatoexcel.save()"
   ]
  },
  {
   "cell_type": "code",
   "execution_count": null,
   "id": "1a5f9de2",
   "metadata": {},
   "outputs": [],
   "source": [
    "#extracted top 200 \"new\" submissions and best comments under them from a random subreddit.\n",
    "#need to modify the \"type\" of submissions \n",
    "#need to extract data from multiple subreddits for the depression part of the dataset\n",
    "#need to extract data from other \"happy\" subreddits for the happy part of the dataset\n",
    "#need to keep data imbalance in mind while looking for the data for both segments of the data set. \n",
    "#need to label the data in the excel sheet towards the end\n",
    "#need to shuffle the sheet data. \n",
    "#check if you need to create a new app the next time you use the above code as client ID and client secret need to be changed. "
   ]
  }
 ],
 "metadata": {
  "kernelspec": {
   "display_name": "Python 3 (ipykernel)",
   "language": "python",
   "name": "python3"
  },
  "language_info": {
   "codemirror_mode": {
    "name": "ipython",
    "version": 3
   },
   "file_extension": ".py",
   "mimetype": "text/x-python",
   "name": "python",
   "nbconvert_exporter": "python",
   "pygments_lexer": "ipython3",
   "version": "3.9.11"
  }
 },
 "nbformat": 4,
 "nbformat_minor": 5
}
